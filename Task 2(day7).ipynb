{
 "cells": [
  {
   "cell_type": "markdown",
   "id": "e98b311f",
   "metadata": {},
   "source": [
    "import numpy as nm\n",
    "import pandas as pd"
   ]
  },
  {
   "cell_type": "code",
   "execution_count": 27,
   "id": "b5614e8e",
   "metadata": {},
   "outputs": [
    {
     "data": {
      "text/html": [
       "<div>\n",
       "<style scoped>\n",
       "    .dataframe tbody tr th:only-of-type {\n",
       "        vertical-align: middle;\n",
       "    }\n",
       "\n",
       "    .dataframe tbody tr th {\n",
       "        vertical-align: top;\n",
       "    }\n",
       "\n",
       "    .dataframe thead th {\n",
       "        text-align: right;\n",
       "    }\n",
       "</style>\n",
       "<table border=\"1\" class=\"dataframe\">\n",
       "  <thead>\n",
       "    <tr style=\"text-align: right;\">\n",
       "      <th></th>\n",
       "      <th>Name</th>\n",
       "      <th>Price</th>\n",
       "      <th>Place</th>\n",
       "      <th>color</th>\n",
       "      <th>Cuisine</th>\n",
       "      <th>Taste</th>\n",
       "      <th>Rating</th>\n",
       "    </tr>\n",
       "  </thead>\n",
       "  <tbody>\n",
       "    <tr>\n",
       "      <th>0</th>\n",
       "      <td>oreo milkshake</td>\n",
       "      <td>130</td>\n",
       "      <td>New York</td>\n",
       "      <td>brown</td>\n",
       "      <td>Us</td>\n",
       "      <td>sweet</td>\n",
       "      <td>4.4</td>\n",
       "    </tr>\n",
       "    <tr>\n",
       "      <th>1</th>\n",
       "      <td>kimchi</td>\n",
       "      <td>20</td>\n",
       "      <td>pune</td>\n",
       "      <td>yellow</td>\n",
       "      <td>japanese</td>\n",
       "      <td>sour</td>\n",
       "      <td>4.8</td>\n",
       "    </tr>\n",
       "    <tr>\n",
       "      <th>2</th>\n",
       "      <td>Dosa</td>\n",
       "      <td>60</td>\n",
       "      <td>Chennai</td>\n",
       "      <td>golden</td>\n",
       "      <td>Indian</td>\n",
       "      <td>salty</td>\n",
       "      <td>3.0</td>\n",
       "    </tr>\n",
       "    <tr>\n",
       "      <th>3</th>\n",
       "      <td>gevar</td>\n",
       "      <td>500</td>\n",
       "      <td>jaipur</td>\n",
       "      <td>White</td>\n",
       "      <td>Indian</td>\n",
       "      <td>sweet</td>\n",
       "      <td>5.0</td>\n",
       "    </tr>\n",
       "    <tr>\n",
       "      <th>4</th>\n",
       "      <td>Seafood</td>\n",
       "      <td>100</td>\n",
       "      <td>Mumbai</td>\n",
       "      <td>Red</td>\n",
       "      <td>Italian</td>\n",
       "      <td>savory</td>\n",
       "      <td>5.0</td>\n",
       "    </tr>\n",
       "    <tr>\n",
       "      <th>5</th>\n",
       "      <td>kulche</td>\n",
       "      <td>40</td>\n",
       "      <td>Delhi</td>\n",
       "      <td>Yellow</td>\n",
       "      <td>Thai</td>\n",
       "      <td>creamy</td>\n",
       "      <td>4.0</td>\n",
       "    </tr>\n",
       "    <tr>\n",
       "      <th>6</th>\n",
       "      <td>dhokla</td>\n",
       "      <td>70</td>\n",
       "      <td>pune</td>\n",
       "      <td>Yellow</td>\n",
       "      <td>Indian</td>\n",
       "      <td>spicy</td>\n",
       "      <td>3.0</td>\n",
       "    </tr>\n",
       "    <tr>\n",
       "      <th>7</th>\n",
       "      <td>Chicken</td>\n",
       "      <td>200</td>\n",
       "      <td>Kolkata</td>\n",
       "      <td>Light red</td>\n",
       "      <td>japanese</td>\n",
       "      <td>spicy</td>\n",
       "      <td>1.0</td>\n",
       "    </tr>\n",
       "    <tr>\n",
       "      <th>8</th>\n",
       "      <td>Biryani</td>\n",
       "      <td>50</td>\n",
       "      <td>pune</td>\n",
       "      <td>Light red</td>\n",
       "      <td>Spanish</td>\n",
       "      <td>spicy</td>\n",
       "      <td>2.0</td>\n",
       "    </tr>\n",
       "    <tr>\n",
       "      <th>9</th>\n",
       "      <td>Kofta</td>\n",
       "      <td>70</td>\n",
       "      <td>Hyderbad</td>\n",
       "      <td>Yellow</td>\n",
       "      <td>Spanish</td>\n",
       "      <td>spicy</td>\n",
       "      <td>4.0</td>\n",
       "    </tr>\n",
       "    <tr>\n",
       "      <th>10</th>\n",
       "      <td>dal bati</td>\n",
       "      <td>230</td>\n",
       "      <td>jaipur</td>\n",
       "      <td>brown</td>\n",
       "      <td>japanese</td>\n",
       "      <td>spicy</td>\n",
       "      <td>5.0</td>\n",
       "    </tr>\n",
       "    <tr>\n",
       "      <th>11</th>\n",
       "      <td>burger</td>\n",
       "      <td>20</td>\n",
       "      <td>Bhopal</td>\n",
       "      <td>brown</td>\n",
       "      <td>Italian</td>\n",
       "      <td>salty</td>\n",
       "      <td>4.0</td>\n",
       "    </tr>\n",
       "  </tbody>\n",
       "</table>\n",
       "</div>"
      ],
      "text/plain": [
       "              Name  Price     Place      color   Cuisine   Taste  Rating\n",
       "0   oreo milkshake    130  New York      brown        Us   sweet     4.4\n",
       "1           kimchi     20      pune     yellow  japanese    sour     4.8\n",
       "2             Dosa     60   Chennai     golden    Indian   salty     3.0\n",
       "3            gevar    500    jaipur      White    Indian   sweet     5.0\n",
       "4          Seafood    100    Mumbai        Red   Italian  savory     5.0\n",
       "5           kulche     40     Delhi     Yellow      Thai  creamy     4.0\n",
       "6           dhokla     70      pune     Yellow    Indian   spicy     3.0\n",
       "7          Chicken    200   Kolkata  Light red  japanese   spicy     1.0\n",
       "8          Biryani     50      pune  Light red   Spanish   spicy     2.0\n",
       "9            Kofta     70  Hyderbad     Yellow   Spanish   spicy     4.0\n",
       "10        dal bati    230    jaipur      brown  japanese   spicy     5.0\n",
       "11          burger     20    Bhopal      brown   Italian   salty     4.0"
      ]
     },
     "execution_count": 27,
     "metadata": {},
     "output_type": "execute_result"
    }
   ],
   "source": [
    "food = pd.DataFrame([['oreo milkshake',130,'New York','brown','Us','sweet',4.4],\n",
    "                   ['kimchi',20,'pune','yellow','japanese','sour',4.8],\n",
    "                   ['Dosa',60,'Chennai','golden','Indian','salty',3],\n",
    "                   ['gevar',500,'jaipur','White','Indian','sweet',5],\n",
    "                   ['Seafood',100,'Mumbai','Red','Italian','savory',5],\n",
    "                   ['kulche',40,'Delhi','Yellow','Thai','creamy',4],\n",
    "                   ['dhokla',70,'pune','Yellow','Indian','spicy',3],\n",
    "                   ['Chicken',200,'Kolkata','Light red','japanese','spicy',1],\n",
    "                   ['Biryani',50,'pune','Light red','Spanish','spicy',2],\n",
    "                   ['Kofta',70,'Hyderbad','Yellow','Spanish','spicy',4],\n",
    "                   ['dal bati',230,'jaipur','brown','japanese','spicy',5],\n",
    "                   ['burger',20,'Bhopal','brown','Italian','salty',4]\n",
    "                  ]\n",
    "                  ,columns=['Name','Price','Place','color','Cuisine','Taste','Rating'])\n",
    "food"
   ]
  },
  {
   "cell_type": "code",
   "execution_count": 28,
   "id": "8fcf5c7d",
   "metadata": {},
   "outputs": [
    {
     "name": "stdout",
     "output_type": "stream",
     "text": [
      "Costliest Dish Name =  gevar \n",
      "Dish Price = 500\n"
     ]
    }
   ],
   "source": [
    "#Costliest\n",
    "for x in food.index:\n",
    "    if food.loc[x,'Price']==food['Price'].max():\n",
    "         print('Costliest Dish Name = ',food.loc[x,'Name'],'\\nDish Price =',food.loc[x,'Price'])"
   ]
  },
  {
   "cell_type": "code",
   "execution_count": 31,
   "id": "8deb0749",
   "metadata": {},
   "outputs": [
    {
     "name": "stdout",
     "output_type": "stream",
     "text": [
      "Cheapest Dish =  kimchi \n",
      "Dish Price =  20\n",
      "Cheapest Dish =  burger \n",
      "Dish Price =  20\n"
     ]
    }
   ],
   "source": [
    "#Cheapest\n",
    "for x in food.index:\n",
    "    if food.loc[x,'Price']==food[\"Price\"].min():\n",
    "         print('Cheapest Dish = ',food.loc[x,'Name'],'\\nDish Price = ',food.loc[x,'Price'])"
   ]
  },
  {
   "cell_type": "code",
   "execution_count": 32,
   "id": "789b9e36",
   "metadata": {},
   "outputs": [
    {
     "name": "stdout",
     "output_type": "stream",
     "text": [
      "Most Popular Cuisine =  Indian \n",
      "Dish Rating =  5.0\n",
      "Most Popular Cuisine =  Italian \n",
      "Dish Rating =  5.0\n",
      "Most Popular Cuisine =  japanese \n",
      "Dish Rating =  5.0\n"
     ]
    }
   ],
   "source": [
    "#Popular\n",
    "for x in food.index:\n",
    "    if food.loc[x,'Rating']==food[\"Rating\"].max():\n",
    "          print('Most Popular Cuisine = ',food.loc[x,'Cuisine'],'\\nDish Rating = ',food.loc[x,'Rating'])"
   ]
  },
  {
   "cell_type": "code",
   "execution_count": 33,
   "id": "57f5c19d",
   "metadata": {},
   "outputs": [
    {
     "data": {
      "text/plain": [
       "spicy     5\n",
       "sweet     2\n",
       "salty     2\n",
       "creamy    1\n",
       "savory    1\n",
       "sour      1\n",
       "Name: Taste, dtype: int64"
      ]
     },
     "execution_count": 33,
     "metadata": {},
     "output_type": "execute_result"
    }
   ],
   "source": [
    "#Tastes\n",
    "food['Taste'].value_counts()"
   ]
  },
  {
   "cell_type": "code",
   "execution_count": null,
   "id": "51787c8d",
   "metadata": {},
   "outputs": [],
   "source": []
  }
 ],
 "metadata": {
  "kernelspec": {
   "display_name": "Python 3",
   "language": "python",
   "name": "python3"
  },
  "language_info": {
   "codemirror_mode": {
    "name": "ipython",
    "version": 3
   },
   "file_extension": ".py",
   "mimetype": "text/x-python",
   "name": "python",
   "nbconvert_exporter": "python",
   "pygments_lexer": "ipython3",
   "version": "3.9.5"
  }
 },
 "nbformat": 4,
 "nbformat_minor": 5
}
